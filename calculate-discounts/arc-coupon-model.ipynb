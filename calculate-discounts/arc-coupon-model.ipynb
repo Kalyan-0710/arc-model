{
 "cells": [
  {
   "cell_type": "code",
   "execution_count": null,
   "id": "a7b4403b-2a38-4e21-8f02-25c2486dc4b4",
   "metadata": {},
   "outputs": [],
   "source": [
    "from sklearn import preprocessing\n",
    "from sklearn.model_selection import train_test_split\n",
    "from sklearn.neighbors import KNeighborsRegressor\n",
    "from sklearn.metrics import mean_squared_error\n",
    "import pandas as pd\n",
    "import matplotlib.pyplot as plt\n",
    "import numpy as np\n",
    "import os\n",
    "from pickle import dump, load\n"
   ]
  },
  {
   "cell_type": "code",
   "execution_count": null,
   "id": "9ad333d4-ee94-46df-b185-16ffa2705987",
   "metadata": {},
   "outputs": [],
   "source": [
    "df = pd.read_csv(\"arg-synth-data.csv\")\n",
    "df.head()"
   ]
  },
  {
   "cell_type": "code",
   "execution_count": null,
   "id": "b72c2744-6394-4f9e-9fbb-8f5c7c390cb7",
   "metadata": {},
   "outputs": [],
   "source": [
    "X_y =  df.to_numpy()\n",
    "names, counts = X_y[:,1], X_y[:,2]  # get X values\n",
    "counts = counts.astype(int)\n",
    "names = names.astype(str)\n",
    "names.dtype"
   ]
  },
  {
   "cell_type": "code",
   "execution_count": null,
   "id": "d575e6aa-d126-40de-8493-dc3b57482f79",
   "metadata": {},
   "outputs": [],
   "source": [
    "le = preprocessing.LabelEncoder()\n",
    "names_encoded = le.fit_transform(names)\n",
    "print(names_encoded[0],\n",
    "      names_encoded[201],\n",
    "      names_encoded[401],\n",
    "      names_encoded[601],\n",
    "      names_encoded[801])\n",
    "## TODO: Save labelencoder object for use in processing data."
   ]
  },
  {
   "cell_type": "code",
   "execution_count": null,
   "id": "4124e735-0610-4288-8d54-2a44c9c9aa68",
   "metadata": {},
   "outputs": [],
   "source": [
    "X = np.column_stack((names_encoded, counts))\n",
    "print(X.shape,\n",
    "      X.dtype)"
   ]
  },
  {
   "cell_type": "code",
   "execution_count": null,
   "id": "82f48fc0-4517-48b0-9183-2b887c598b4c",
   "metadata": {},
   "outputs": [],
   "source": [
    "# Finding normalised array of X_Train - TODO: save model state.\n",
    "scaler = preprocessing.StandardScaler().fit(X)\n",
    "X_std = scaler.transform(X)\n",
    "print(X_std[:5])"
   ]
  },
  {
   "cell_type": "code",
   "execution_count": null,
   "id": "7b58e98e-5640-4770-86bf-b4439f0e2620",
   "metadata": {},
   "outputs": [],
   "source": [
    "y = X_y[:,3]  # get y/label values\n",
    "y = y.astype(float)\n",
    "print(y.shape,\n",
    "      y.dtype)"
   ]
  },
  {
   "cell_type": "code",
   "execution_count": null,
   "id": "5fed6cd9-d148-4eda-8f6d-13b3d4aa7c7c",
   "metadata": {},
   "outputs": [],
   "source": [
    "X_train, X_test, y_train, y_test = train_test_split(\n",
    "        X_std, y, test_size=0.4, random_state=42\n",
    "    )"
   ]
  },
  {
   "cell_type": "code",
   "execution_count": null,
   "id": "1a9e94cb-36e1-40cc-95ec-f0c117187796",
   "metadata": {},
   "outputs": [],
   "source": [
    "n_neighbors=5\n",
    "knn = KNeighborsRegressor(n_neighbors,weights='uniform')\n",
    "knn.fit(X_train,y_train)"
   ]
  },
  {
   "cell_type": "code",
   "execution_count": null,
   "id": "914a014e-87a6-44c5-b3d8-28a7af9e9011",
   "metadata": {},
   "outputs": [],
   "source": [
    "# Find accuracy on Trainset\n",
    "\n",
    "train_preds = knn.predict(X_train)\n",
    "mean_squared_error(y_train, train_preds)"
   ]
  },
  {
   "cell_type": "code",
   "execution_count": null,
   "id": "2a5edd20-55f1-4db0-ac2f-010ea03da555",
   "metadata": {},
   "outputs": [],
   "source": [
    "# Find accuracy on Testset\n",
    "\n",
    "test_preds = knn.predict(X_test)\n",
    "mean_squared_error(y_test, test_preds) "
   ]
  },
  {
   "cell_type": "code",
   "execution_count": null,
   "id": "ce8661c8-8a34-4b84-93dc-ba5a74ea581a",
   "metadata": {},
   "outputs": [],
   "source": [
    "# save the model, the label encoder, the scaler.\n",
    "\n",
    "dump(knn, open('knn-model.pkl', 'wb'))\n",
    "dump(scaler, open('scaler.pkl', 'wb'))\n",
    "dump(le, open('label-encoder.pkl', 'wb'))"
   ]
  },
  {
   "cell_type": "code",
   "execution_count": null,
   "id": "aae4ed09-2c9e-4156-935b-d98bddbe03ad",
   "metadata": {},
   "outputs": [],
   "source": [
    "# Testing how to load in the model, scaler, encoder.\n",
    "# and run on new data point(s)\n",
    "\n",
    "model = load(open('knn-model.pkl', 'rb'))\n",
    "sc = load(open('scaler.pkl', 'rb'))\n",
    "enc = load(open('label-encoder.pkl', 'rb'))"
   ]
  },
  {
   "cell_type": "code",
   "execution_count": null,
   "id": "0199b2f0-0bb2-4609-a018-c61f68614d4a",
   "metadata": {},
   "outputs": [],
   "source": [
    "## DATA COMES IN - CLASS NAME ONLY\n",
    "\n",
    "test_datapoint = np.asarray(['Bottle'])\n",
    "test_datapoint = enc.transform(test_datapoint)\n",
    "\n",
    "## CLASS NAME ENCODED - NOW WE ADD A STOCK AMOUNT\n",
    "\n",
    "test_datapoint = np.asarray([[test_datapoint[0], 61]])\n",
    "print(test_datapoint)\n",
    "test_datapoint = sc.transform(test_datapoint)\n",
    "\n",
    "## SCALED, MADE INTO 2D ARRAY - CAN NOW PREDICT.\n",
    "\n",
    "print(test_datapoint)\n",
    "print(model.predict(test_datapoint))"
   ]
  },
  {
   "cell_type": "code",
   "execution_count": null,
   "id": "0459ab25-70cc-48ff-84d2-750334a03ae4",
   "metadata": {},
   "outputs": [],
   "source": [
    "## Let's write a function to handle that above case.\n",
    "# Will finish this once I'm more positive of the input to this function.\n",
    "\n",
    "\n",
    "# def make_preds(classes):\n",
    "#     \"\"\"\n",
    "#     classes: list of class names predicted by prev. model\n",
    "#     returns corresponding list of discounts \n",
    "#     \"\"\"\n",
    "#     classes = np.asarray(classes)\n",
    "#     to_return = []\n",
    "#     for class_ in classes:\n",
    "        \n",
    "    "
   ]
  }
 ],
 "metadata": {
  "kernelspec": {
   "display_name": "Python 3 (ipykernel)",
   "language": "python",
   "name": "python3"
  },
  "language_info": {
   "codemirror_mode": {
    "name": "ipython",
    "version": 3
   },
   "file_extension": ".py",
   "mimetype": "text/x-python",
   "name": "python",
   "nbconvert_exporter": "python",
   "pygments_lexer": "ipython3",
   "version": "3.8.8"
  }
 },
 "nbformat": 4,
 "nbformat_minor": 5
}
