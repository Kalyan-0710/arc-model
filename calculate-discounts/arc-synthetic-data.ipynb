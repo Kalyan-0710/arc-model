{
 "cells": [
  {
   "cell_type": "code",
   "execution_count": null,
   "id": "9d38ac98-b186-47ff-900f-ccdd7b7c89ce",
   "metadata": {},
   "outputs": [],
   "source": [
    "!pip install -U scikit-learn"
   ]
  },
  {
   "cell_type": "code",
   "execution_count": null,
   "id": "d79d8dd0-86e8-471b-badd-9a193564e5fb",
   "metadata": {},
   "outputs": [],
   "source": [
    "import random\n",
    "import pandas as pd\n",
    "import matplotlib.pyplot as plt\n",
    "import numpy as np\n",
    "\n",
    "random.seed(0)"
   ]
  },
  {
   "cell_type": "code",
   "execution_count": null,
   "id": "a5401ece-97c5-410e-b414-b01ffdb8b1c6",
   "metadata": {},
   "outputs": [],
   "source": [
    "category_names = ['Bottle', 'Pen',\n",
    "                  'Clothing', 'Drink', 'Footwear']  # using this just for reference."
   ]
  },
  {
   "cell_type": "code",
   "execution_count": null,
   "id": "abae0838-555c-40d2-a762-4530f7087977",
   "metadata": {},
   "outputs": [],
   "source": [
    "class Category:\n",
    "    \"\"\"\n",
    "    category class used for data gen \n",
    "    name = class name\n",
    "    max_discount = float, max amount of discount an item can have.\n",
    "    \"\"\"\n",
    "    def __init__(self, name, max_stock, discount_level):\n",
    "        self.name = name\n",
    "        self.max_stock = max_stock\n",
    "        self.max_discount = discount_level"
   ]
  },
  {
   "cell_type": "code",
   "execution_count": null,
   "id": "fcf8c7d5-e5bb-42d9-8168-60ef7e6c3627",
   "metadata": {},
   "outputs": [],
   "source": [
    "def choose_discount(sample, max_, max_disc):\n",
    "    \"\"\"\n",
    "    chooses discount based on % of stock\n",
    "    \"\"\"\n",
    "    pct_stock = sample / max_\n",
    "    chosen_disc = round(pct_stock*max_disc, 2)\n",
    "    return chosen_disc"
   ]
  },
  {
   "cell_type": "code",
   "execution_count": null,
   "id": "63f953d1-f0b7-4027-88fe-11623e57e897",
   "metadata": {},
   "outputs": [],
   "source": [
    "def generate_data_single_cat(cat, num_samples):\n",
    "    \"\"\" \n",
    "    function to generate synthetic data points for 1 category\n",
    "    takes in a category object and number of points to generate.\n",
    "    \"\"\"\n",
    "    category_data = []\n",
    "    for _ in range(num_samples):\n",
    "        sample_stock = random.randint(0, cat.max_stock)\n",
    "        pct_stock = sample_stock / cat.max_stock\n",
    "        discount = choose_discount(sample_stock, cat.max_stock, cat.max_discount)\n",
    "        category_data.append([cat.name, sample_stock, discount])\n",
    "    return category_data"
   ]
  },
  {
   "cell_type": "code",
   "execution_count": null,
   "id": "0e618e70-0b4e-4141-a08d-022c015ef1de",
   "metadata": {},
   "outputs": [],
   "source": [
    "z = generate_data_single_cat(Category('hat', 100, .20), 10)"
   ]
  },
  {
   "cell_type": "code",
   "execution_count": null,
   "id": "d7f5a8b1-d6d8-4a1a-b523-98b38d032ad6",
   "metadata": {},
   "outputs": [],
   "source": [
    "z = np.asarray(z)"
   ]
  },
  {
   "cell_type": "code",
   "execution_count": null,
   "id": "6be8f055-d10a-41ce-aa1c-8da3ef5d2ca4",
   "metadata": {
    "tags": []
   },
   "outputs": [],
   "source": [
    "print(z[:,2])"
   ]
  },
  {
   "cell_type": "code",
   "execution_count": null,
   "id": "88cae249-49a6-4bbf-af1d-435b6c18a707",
   "metadata": {},
   "outputs": [],
   "source": [
    "def generate_data_all_cats(categories, samples_per):\n",
    "    \"\"\"\n",
    "    generates 'samples_per' datapoints for each category inputted\n",
    "    \"\"\"\n",
    "    data = []\n",
    "    for cat in categories:\n",
    "        subset = generate_data_single_cat(cat, samples_per)\n",
    "        data += subset\n",
    "    return data"
   ]
  },
  {
   "cell_type": "code",
   "execution_count": null,
   "id": "26a788d8-9874-43b5-8b9b-0cb35cfc4570",
   "metadata": {},
   "outputs": [],
   "source": [
    "cats = [Category('Bottle', 100, .2),  # up to .2 discount\n",
    "        Category('Pen', 1000, .5),  # up to .5\n",
    "        Category('Clothing', 500, .4),  # up to .4\n",
    "        Category('Drink', 100, .2),  # up to .2 discount\n",
    "        Category('Footwear', 50, .3)  # up to .3 discount\n",
    "       ]"
   ]
  },
  {
   "cell_type": "code",
   "execution_count": null,
   "id": "940ef3c4-8e47-42da-8f05-eb49597ec108",
   "metadata": {
    "tags": []
   },
   "outputs": [],
   "source": [
    "X = generate_data_all_cats(cats, 400)"
   ]
  },
  {
   "cell_type": "code",
   "execution_count": null,
   "id": "ca3eb70c-42dd-43e7-8c8f-47d8dfac437b",
   "metadata": {},
   "outputs": [],
   "source": [
    "print(len(X))\n",
    "print(X[0], X[401], X[801], X[1201], X[1601])"
   ]
  },
  {
   "cell_type": "code",
   "execution_count": null,
   "id": "6855db37-5d7f-4aaf-918d-5997f619af4e",
   "metadata": {},
   "outputs": [],
   "source": [
    "columns = ['Name', 'Stock', 'Discount']\n",
    "df = pd.DataFrame(X, columns=columns)\n",
    "df.to_csv(\"discount_data/arg-synth-data_0.csv\")"
   ]
  },
  {
   "cell_type": "code",
   "execution_count": null,
   "id": "7271fd4b-9247-42ac-8088-3c55d26b7501",
   "metadata": {},
   "outputs": [],
   "source": []
  }
 ],
 "metadata": {
  "kernelspec": {
   "display_name": "Python 3 (ipykernel)",
   "language": "python",
   "name": "python3"
  },
  "language_info": {
   "codemirror_mode": {
    "name": "ipython",
    "version": 3
   },
   "file_extension": ".py",
   "mimetype": "text/x-python",
   "name": "python",
   "nbconvert_exporter": "python",
   "pygments_lexer": "ipython3",
   "version": "3.8.8"
  }
 },
 "nbformat": 4,
 "nbformat_minor": 5
}
